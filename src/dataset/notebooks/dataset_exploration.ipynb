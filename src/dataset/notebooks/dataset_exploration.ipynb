{
 "cells": [
  {
   "cell_type": "code",
   "execution_count": 8,
   "metadata": {},
   "outputs": [],
   "source": [
    "import pandas as pd\n",
    "from pathlib import Path\n",
    "import numpy as np\n",
    "import melee\n",
    "from tqdm import tqdm\n",
    "from multiprocessing import Pool\n",
    "from slippi.parse import parse, ParseEvent\n",
    "from slippi import Game\n",
    "from tabulate import tabulate\n",
    "from src.dataset.tools.melee_dataset import MeleeDataset\n"
   ]
  },
  {
   "cell_type": "code",
   "execution_count": 4,
   "metadata": {},
   "outputs": [
    {
     "name": "stdout",
     "output_type": "stream",
     "text": [
      "95102 files in dataset\n"
     ]
    }
   ],
   "source": [
    "dataset_path = Path(\"../slp-dataset/\")\n",
    "training_path = dataset_path / \"training_data\"\n",
    "training_files = list(training_path.glob(\"*.slp\"))\n",
    "print(f\"{len(training_files)} files in dataset\")\n"
   ]
  },
  {
   "cell_type": "code",
   "execution_count": 21,
   "metadata": {},
   "outputs": [],
   "source": [
    "# Print out game file names -- these seem pretty random, will need to parse these \n",
    "# individually and setup a database to figure out distibrutions of matchups, etc.\n",
    "random_idx = np.random.choice(len(training_files), size=10)\n"
   ]
  },
  {
   "cell_type": "code",
   "execution_count": 24,
   "metadata": {},
   "outputs": [
    {
     "name": "stdout",
     "output_type": "stream",
     "text": [
      "Game_20191013T201756.slp\n",
      "FALCO 3 FALCO 0 FOUNTAIN_OF_DREAMS\n",
      "19_17_24 [LEAN] Fox + [YUNG] Falco (YS).slp\n",
      "FOX 2 FALCO 0 YOSHIS_STORY\n",
      "Game_20190824T090751.slp\n",
      "FOX 4 YOSHI 4 BATTLEFIELD\n",
      "Fox vs Puff (ACAB) [DL] Game_20181024T213120.slp\n",
      "FOX 0 JIGGLYPUFF 2 DREAM_LAND_N64\n",
      "Game_20190323T123710.slp\n",
      "PEACH 2 FOX 1 BATTLEFIELD\n",
      "Game_20190823T143225.slp\n",
      "FOX 0 MARTH 2 POKEMON_STADIUM\n",
      "Game_20190323T201724.slp\n",
      "MARTH 0 FOX 2 FOUNTAIN_OF_DREAMS\n",
      "Game_19490902T130404.slp\n",
      "FOX 2 FALCO 2 FINAL_DESTINATION\n",
      "Game_20190614T220025.slp\n",
      "FOX 4 FOX 0 YOSHIS_STORY\n",
      "Game_20190420T215103.slp\n",
      "GANONDORF 1 GANONDORF 0 BATTLEFIELD\n"
     ]
    }
   ],
   "source": [
    "\n",
    "for i in random_idx:\n",
    "    print(training_files[i].stem + training_files[i].suffix)\n",
    "    game = Game(str(training_files[i]))\n",
    "    ports = []\n",
    "    players = []    \n",
    "    for i, player in enumerate(game.start.players):\n",
    "        if player is not None:    \n",
    "            players.append(player)\n",
    "            ports.append(i)\n",
    "\n",
    "    p1 = players[0].character.name\n",
    "    p1_end_stocks = game.frames[len(game.frames)-1].ports[ports[0]].leader.post.stocks\n",
    "    p2_end_stocks = game.frames[len(game.frames)-1].ports[ports[1]].leader.post.stocks\n",
    "    p2 = players[1].character.name    \n",
    "    stage = game.start.stage.name\n",
    "    print(f\"{p1} {p1_end_stocks} {p2} {p2_end_stocks} {stage}\")\n",
    "        \n",
    "    # print(game.frames[len(game.frames)-1])\n",
    "    "
   ]
  },
  {
   "cell_type": "code",
   "execution_count": 26,
   "metadata": {},
   "outputs": [
    {
     "name": "stderr",
     "output_type": "stream",
     "text": [
      "100%|██████████| 95102/95102 [1:26:45<00:00, 18.27it/s]\n"
     ]
    }
   ],
   "source": [
    "def work(path):    \n",
    "    try:    \n",
    "        game = Game(str(path))    \n",
    "        ports = []\n",
    "        players = []    \n",
    "        for i, player in enumerate(game.start.players):\n",
    "            if player is not None:    \n",
    "                players.append(player)\n",
    "                ports.append(i)\n",
    "\n",
    "        p1 = players[0].character.name\n",
    "        p1_end_stocks = game.frames[len(game.frames)-1].ports[ports[0]].leader.post.stocks\n",
    "        p2_end_stocks = game.frames[len(game.frames)-1].ports[ports[1]].leader.post.stocks\n",
    "        p2 = players[1].character.name\n",
    "        stage = game.start.stage.name\n",
    "        return [path, p1, p1_end_stocks, p2, p2_end_stocks, stage]    \n",
    "        \n",
    "    except:    \n",
    "        return [path, \"err\", \"err\", \"err\", \"err\", \"err\"]  # some files seem corrupted\n",
    "\n",
    "dataset = pd.DataFrame(columns=[\"path\", \"P1\", \"P1_END_STOCKS\", \"P2\", \"P2_END_STOCKS\" \"stage\"])    \n",
    "\n",
    "pool = Pool(8)    \n",
    "for idx, output in enumerate(tqdm(pool.imap_unordered(work, training_files), total=len(training_files))):\n",
    "    dataset.loc[idx] = output\n",
    "\n",
    "# There is certainly a faster way to do this using ParseEvent (probably)"
   ]
  },
  {
   "cell_type": "code",
   "execution_count": 27,
   "metadata": {},
   "outputs": [
    {
     "name": "stdout",
     "output_type": "stream",
     "text": [
      "32 bad examples (?)\n"
     ]
    }
   ],
   "source": [
    "# Save to file\n",
    "dataset_no_err = dataset[dataset.P1 != \"err\"]\n",
    "print(f\"{len(dataset) - len(dataset_no_err)} bad examples (?)\")\n",
    "dataset_no_err.to_csv(dataset_path / \"dataset.csv\")"
   ]
  },
  {
   "cell_type": "code",
   "execution_count": 6,
   "metadata": {},
   "outputs": [
    {
     "name": "stdout",
     "output_type": "stream",
     "text": [
      "86847\n",
      "Unnamed: 0                                                       0\n",
      "path             ../slp-dataset/training_data/19_43_23 Marth + ...\n",
      "P1                                                           MARTH\n",
      "P1_END_STOCKS                                                    3\n",
      "P2                                                           FALCO\n",
      "P2_END_STOCKS                                                    0\n",
      "stage                                                  BATTLEFIELD\n",
      "label                                                            1\n",
      "Name: 0, dtype: object\n"
     ]
    }
   ],
   "source": [
    "# Generate labels and save\n",
    "df = pd.read_csv(\"../slp-dataset/dataset.csv\")\n",
    "filtered = df.copy()\n",
    "label = []\n",
    "for i in range(len(df)):\n",
    "    row = df.iloc[i]\n",
    "    if ((row['P1_END_STOCKS'] == 0 and row['P2_END_STOCKS'] != 0) \n",
    "        or (row['P1_END_STOCKS'] != 0 and row['P2_END_STOCKS'] == 0)):\n",
    "        if row['P1_END_STOCKS'] == 0:\n",
    "            label.append(0)  # lose\n",
    "        else:\n",
    "            label.append(1)  # win \n",
    "    else:\n",
    "        # game incomplete\n",
    "        label.append(-1)\n",
    "    \n",
    "filtered[\"label\"] = label\n",
    "filtered = filtered[filtered[\"label\"] != -1]\n",
    "print(len(filtered))\n",
    "filtered.to_csv(dataset_path / \"training.csv\")      \n",
    "print(filtered.iloc[0])"
   ]
  },
  {
   "cell_type": "code",
   "execution_count": 42,
   "metadata": {},
   "outputs": [
    {
     "name": "stdout",
     "output_type": "stream",
     "text": [
      "Character                 %\n",
      "--------------  -----------\n",
      "FOX             0.557517\n",
      "FALCO           0.379918\n",
      "MARTH           0.29727\n",
      "CAPTAIN_FALCON  0.251761\n",
      "SHEIK           0.132857\n",
      "PEACH           0.0742781\n",
      "JIGGLYPUFF      0.056308\n",
      "SAMUS           0.0383904\n",
      "GANONDORF       0.0299889\n",
      "ICE_CLIMBERS    0.0278648\n",
      "LUIGI           0.0257408\n",
      "PIKACHU         0.020641\n",
      "YOSHI           0.0171816\n",
      "DR_MARIO        0.0138483\n",
      "ZELDA           0.012965\n",
      "DONKEY_KONG     0.0121659\n",
      "LINK            0.00908498\n",
      "MARIO           0.00876953\n",
      "GAME_AND_WATCH  0.00677168\n",
      "ROY             0.00479485\n",
      "YOUNG_LINK      0.00465816\n",
      "KIRBY           0.0044058\n",
      "NESS            0.00374335\n",
      "MEWTWO          0.00359614\n",
      "BOWSER          0.00288112\n",
      "PICHU           0.00192425\n",
      "err             0.000672962\n"
     ]
    }
   ],
   "source": [
    "data = {}\n",
    "for character in dataset.P1.unique():\n",
    "    data[character] = (len(dataset[dataset.P1 == character]) + len(dataset[dataset.P2 == character]))/len(dataset)\n",
    "\n",
    "headers = ['Character', '%']\n",
    "data_t = sorted([(k,v) for k,v in data.items()], key=lambda x:x[1], reverse=True)\n",
    "print(tabulate(data_t, headers=headers))"
   ]
  },
  {
   "cell_type": "code",
   "execution_count": 9,
   "metadata": {},
   "outputs": [
    {
     "name": "stdout",
     "output_type": "stream",
     "text": [
      "86847\n",
      "Unnamed: 0                                                       1\n",
      "Unnamed: 0.1                                                     1\n",
      "path             ../slp-dataset/training_data/Game_20190706T111...\n",
      "P1                                                             FOX\n",
      "P1_END_STOCKS                                                    3\n",
      "P2                                                           PEACH\n",
      "P2_END_STOCKS                                                    0\n",
      "stage                                                 YOSHIS_STORY\n",
      "label                                                            1\n",
      "Name: 1, dtype: object\n"
     ]
    }
   ],
   "source": [
    "dataset = MeleeDataset(\"../slp-dataset/training.csv\")\n",
    "print(len(dataset))\n",
    "print(dataset[1])"
   ]
  }
 ],
 "metadata": {
  "kernelspec": {
   "display_name": "Python 3",
   "language": "python",
   "name": "python3"
  },
  "language_info": {
   "codemirror_mode": {
    "name": "ipython",
    "version": 3
   },
   "file_extension": ".py",
   "mimetype": "text/x-python",
   "name": "python",
   "nbconvert_exporter": "python",
   "pygments_lexer": "ipython3",
   "version": "3.6.9"
  }
 },
 "nbformat": 4,
 "nbformat_minor": 4
}
