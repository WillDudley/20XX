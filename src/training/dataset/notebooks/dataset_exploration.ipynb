{
 "cells": [
  {
   "cell_type": "markdown",
   "metadata": {},
   "source": [
    "SLP Dataset Exploration\n",
    "---\n",
    "This notebook explores the new public slp dataset. Towards the end, some planning takes place for training. "
   ]
  },
  {
   "cell_type": "code",
   "execution_count": 3,
   "metadata": {},
   "outputs": [],
   "source": [
    "import pandas as pd\n",
    "from pathlib import Path\n",
    "import numpy as np\n",
    "import melee\n",
    "from tqdm import tqdm\n",
    "from multiprocessing import Pool\n",
    "from slippi.parse import parse, ParseEvent\n",
    "from slippi import Game\n",
    "from tabulate import tabulate\n",
    "from src.dataset.tools.melee_dataset import MeleeDataset\n"
   ]
  },
  {
   "cell_type": "code",
   "execution_count": 3,
   "metadata": {},
   "outputs": [
    {
     "name": "stdout",
     "output_type": "stream",
     "text": [
      "95102 files in dataset\n"
     ]
    }
   ],
   "source": [
    "dataset_path = Path(\"../slp-dataset/\")\n",
    "training_path = dataset_path / \"training_data\"\n",
    "training_files = list(training_path.glob(\"*.slp\"))\n",
    "print(f\"{len(training_files)} files in dataset\")\n"
   ]
  },
  {
   "cell_type": "code",
   "execution_count": 21,
   "metadata": {},
   "outputs": [],
   "source": [
    "# Create a random index to view files\n",
    "random_idx = np.random.choice(len(training_files), size=10)"
   ]
  },
  {
   "cell_type": "code",
   "execution_count": 24,
   "metadata": {},
   "outputs": [
    {
     "name": "stdout",
     "output_type": "stream",
     "text": [
      "Game_20191013T201756.slp\n",
      "FALCO 3 FALCO 0 FOUNTAIN_OF_DREAMS\n",
      "19_17_24 [LEAN] Fox + [YUNG] Falco (YS).slp\n",
      "FOX 2 FALCO 0 YOSHIS_STORY\n",
      "Game_20190824T090751.slp\n",
      "FOX 4 YOSHI 4 BATTLEFIELD\n",
      "Fox vs Puff (ACAB) [DL] Game_20181024T213120.slp\n",
      "FOX 0 JIGGLYPUFF 2 DREAM_LAND_N64\n",
      "Game_20190323T123710.slp\n",
      "PEACH 2 FOX 1 BATTLEFIELD\n",
      "Game_20190823T143225.slp\n",
      "FOX 0 MARTH 2 POKEMON_STADIUM\n",
      "Game_20190323T201724.slp\n",
      "MARTH 0 FOX 2 FOUNTAIN_OF_DREAMS\n",
      "Game_19490902T130404.slp\n",
      "FOX 2 FALCO 2 FINAL_DESTINATION\n",
      "Game_20190614T220025.slp\n",
      "FOX 4 FOX 0 YOSHIS_STORY\n",
      "Game_20190420T215103.slp\n",
      "GANONDORF 1 GANONDORF 0 BATTLEFIELD\n"
     ]
    }
   ],
   "source": [
    "for i in random_idx:\n",
    "    print(training_files[i].stem + training_files[i].suffix)\n",
    "    game = Game(str(training_files[i]))\n",
    "    ports = []\n",
    "    players = []    \n",
    "    for i, player in enumerate(game.start.players):\n",
    "        if player is not None:    \n",
    "            players.append(player)\n",
    "            ports.append(i)\n",
    "\n",
    "    p1 = players[0].character.name\n",
    "    p1_end_stocks = game.frames[len(game.frames)-1].ports[ports[0]].leader.post.stocks\n",
    "    p2_end_stocks = game.frames[len(game.frames)-1].ports[ports[1]].leader.post.stocks\n",
    "    p2 = players[1].character.name    \n",
    "    stage = game.start.stage.name\n",
    "    print(f\"{p1} {p1_end_stocks} {p2} {p2_end_stocks} {stage}\")\n",
    "        \n",
    "    # print(game.frames[len(game.frames)-1])\n",
    "    "
   ]
  },
  {
   "cell_type": "code",
   "execution_count": 26,
   "metadata": {},
   "outputs": [
    {
     "name": "stderr",
     "output_type": "stream",
     "text": [
      "100%|██████████| 95102/95102 [1:26:45<00:00, 18.27it/s]\n"
     ]
    }
   ],
   "source": [
    "# Create an index for this dataset to easily filter games by characters\n",
    "def work(path):    \n",
    "    try:    \n",
    "        game = Game(str(path))    \n",
    "        ports = []\n",
    "        players = []    \n",
    "        for i, player in enumerate(game.start.players):\n",
    "            if player is not None:    \n",
    "                players.append(player)\n",
    "                ports.append(i)\n",
    "\n",
    "        p1 = players[0].character.name\n",
    "        p2 = players[1].character.name\n",
    "        \n",
    "        # We only care about games that have a winner\n",
    "        p1_end_stocks = game.frames[len(game.frames)-1].ports[ports[0]].leader.post.stocks\n",
    "        p2_end_stocks = game.frames[len(game.frames)-1].ports[ports[1]].leader.post.stocks\n",
    "\n",
    "        stage = game.start.stage.name\n",
    "        return [path.absolute(), p1, p1_end_stocks, p2, p2_end_stocks, stage]    \n",
    "        \n",
    "    except:\n",
    "        return [path, \"err\", \"err\", \"err\", \"err\", \"err\"]  # some files seem corrupted\n",
    "\n",
    "dataset = pd.DataFrame(columns=[\"path\", \"P1\", \"P1_END_STOCKS\", \"P2\", \"P2_END_STOCKS\" \"stage\"])    \n",
    "\n",
    "pool = Pool(8)    \n",
    "for idx, output in enumerate(tqdm(pool.imap_unordered(work, training_files), total=len(training_files))):\n",
    "    dataset.loc[idx] = output\n",
    "\n",
    "# There is certainly a faster way to do this using ParseEvent (probably)"
   ]
  },
  {
   "cell_type": "code",
   "execution_count": 27,
   "metadata": {},
   "outputs": [
    {
     "name": "stdout",
     "output_type": "stream",
     "text": [
      "32 bad examples (?)\n"
     ]
    }
   ],
   "source": [
    "# Save to file\n",
    "dataset_no_err = dataset[dataset.P1 != \"err\"]\n",
    "print(f\"{len(dataset) - len(dataset_no_err)} bad examples (?)\")\n",
    "dataset_no_err.to_csv(dataset_path / \"dataset.csv\")"
   ]
  },
  {
   "cell_type": "code",
   "execution_count": 6,
   "metadata": {},
   "outputs": [
    {
     "name": "stdout",
     "output_type": "stream",
     "text": [
      "86847\n",
      "Unnamed: 0                                                       0\n",
      "path             ../slp-dataset/training_data/19_43_23 Marth + ...\n",
      "P1                                                           MARTH\n",
      "P1_END_STOCKS                                                    3\n",
      "P2                                                           FALCO\n",
      "P2_END_STOCKS                                                    0\n",
      "stage                                                  BATTLEFIELD\n",
      "label                                                            1\n",
      "Name: 0, dtype: object\n"
     ]
    }
   ],
   "source": [
    "# Generate labels and save\n",
    "df = pd.read_csv(\"../slp-dataset/dataset.csv\")\n",
    "filtered = df.copy()\n",
    "label = []\n",
    "for i in range(len(df)):\n",
    "    row = df.iloc[i]\n",
    "    if ((row['P1_END_STOCKS'] == 0 and row['P2_END_STOCKS'] != 0) \n",
    "        or (row['P1_END_STOCKS'] != 0 and row['P2_END_STOCKS'] == 0)):\n",
    "        if row['P1_END_STOCKS'] == 0:\n",
    "            label.append(0)  # lose\n",
    "        else:\n",
    "            label.append(1)  # win \n",
    "    else:\n",
    "        # game incomplete\n",
    "        label.append(-1)\n",
    "    \n",
    "filtered[\"label\"] = label\n",
    "filtered = filtered[filtered[\"label\"] != -1]\n",
    "print(len(filtered))\n",
    "filtered.to_csv(dataset_path / \"training.csv\")      \n",
    "print(filtered.iloc[0])"
   ]
  },
  {
   "cell_type": "code",
   "execution_count": 4,
   "metadata": {},
   "outputs": [
    {
     "name": "stdout",
     "output_type": "stream",
     "text": [
      "Character                %\n",
      "--------------  ----------\n",
      "FOX             0.557705\n",
      "FALCO           0.380046\n",
      "MARTH           0.29737\n",
      "CAPTAIN_FALCON  0.251846\n",
      "SHEIK           0.132902\n",
      "PEACH           0.0743031\n",
      "JIGGLYPUFF      0.0563269\n",
      "SAMUS           0.0384033\n",
      "GANONDORF       0.0299989\n",
      "ICE_CLIMBERS    0.0278742\n",
      "LUIGI           0.0257494\n",
      "PIKACHU         0.0206479\n",
      "YOSHI           0.0171873\n",
      "DR_MARIO        0.013853\n",
      "ZELDA           0.0129694\n",
      "DONKEY_KONG     0.01217\n",
      "LINK            0.00908804\n",
      "MARIO           0.00877248\n",
      "GAME_AND_WATCH  0.00677396\n",
      "ROY             0.00479647\n",
      "YOUNG_LINK      0.00465972\n",
      "KIRBY           0.00440728\n",
      "NESS            0.00374461\n",
      "MEWTWO          0.00359735\n",
      "BOWSER          0.00288209\n",
      "PICHU           0.0019249\n"
     ]
    }
   ],
   "source": [
    "dataset = pd.read_csv(\"../slp-dataset/dataset.csv\")\n",
    "data = {}\n",
    "for character in dataset.P1.unique():\n",
    "    data[character] = (len(dataset[dataset.P1 == character]) + \n",
    "                       len(dataset[dataset.P2 == character]))/len(dataset)\n",
    "\n",
    "headers = ['Character', '%']\n",
    "data_t = sorted([(k,v) for k,v in data.items()], key=lambda x:x[1], reverse=True)\n",
    "print(tabulate(data_t, headers=headers))"
   ]
  },
  {
   "cell_type": "code",
   "execution_count": 5,
   "metadata": {},
   "outputs": [
    {
     "name": "stdout",
     "output_type": "stream",
     "text": [
      "Stage                             %\n",
      "----------------------  -----------\n",
      "BATTLEFIELD             0.239413\n",
      "YOSHIS_STORY            0.176417\n",
      "DREAM_LAND_N64          0.147702\n",
      "POKEMON_STADIUM         0.146787\n",
      "FINAL_DESTINATION       0.146629\n",
      "FOUNTAIN_OF_DREAMS      0.138677\n",
      "KONGO_JUNGLE            0.000925634\n",
      "CORNERIA                0.000273483\n",
      "RAINBOW_CRUISE          0.000231408\n",
      "POKE_FLOATS             0.00022089\n",
      "FLAT_ZONE               0.00022089\n",
      "BRINSTAR_DEPTHS         0.000210371\n",
      "MUTE_CITY               0.000189334\n",
      "HYRULE_TEMPLE           0.000178816\n",
      "JUNGLE_JAPES            0.000178816\n",
      "BIG_BLUE                0.000168297\n",
      "GREEN_GREENS            0.000168297\n",
      "FOURSIDE                0.000157778\n",
      "BRINSTAR                0.000157778\n",
      "KONGO_JUNGLE_N64        0.00014726\n",
      "MUSHROOM_KINGDOM_II     0.00014726\n",
      "PRINCESS_PEACHS_CASTLE  0.000136741\n",
      "GREAT_BAY               0.000136741\n",
      "YOSHIS_ISLAND           0.000126223\n",
      "ONETT                   0.000115704\n",
      "YOSHIS_ISLAND_N64       9.46671e-05\n",
      "VENOM                   8.41485e-05\n",
      "MUSHROOM_KINGDOM_I      7.363e-05\n",
      "ICICLE_MOUNTAIN         3.15557e-05\n"
     ]
    }
   ],
   "source": [
    "data = {}\n",
    "for stage in dataset.stage.unique():\n",
    "    data[stage] = len(dataset[dataset.stage == stage])/len(dataset)\n",
    "    \n",
    "headers = ['Stage', '%']\n",
    "data_t = sorted([(k,v) for k,v in data.items()], key=lambda x:x[1], reverse=True)\n",
    "print(tabulate(data_t, headers=headers))"
   ]
  },
  {
   "cell_type": "markdown",
   "metadata": {},
   "source": [
    "Next steps: build a training dataset. There's a lot of potential options for how a dataset should be setup for this task. Some ideas:\n",
    "* Fox appears in >50% of games, so a training dataset should focus on fox. \n",
    "* Filter out all the non-tournament stages. With enough games it would probably be best to focus on battlefield, but since games are limited perhaps it is best to take more stages for now.\n",
    "* Dataset creation ideas:\n",
    "    * Only look at each frame individually. If we know the frame leads to a certain outcome (win/loss) then we show advantage based on just this data. Ideally the sum of actions taken at each frame leads to a winning condition. \n",
    "        * Randomly sample each game for frames\n",
    "        * Extract input features from sample (p1_x, p1_y, p1_damage, p1_character, p2_x, p2_y, ..., stage)\n",
    "        * future: Compute the derivative of damage, stocks, as an additional feature, e.g., the rate at which P1 takes damage. Lots of processing.\n",
    "    * Look at a series of contiguous frames. Same as above, but sampling for a group of N frames. Using the right model, it should better capture data about how actions chain together that lead to an advantage state. "
   ]
  },
  {
   "cell_type": "code",
   "execution_count": 9,
   "metadata": {},
   "outputs": [
    {
     "name": "stdout",
     "output_type": "stream",
     "text": [
      "Unnamed: 0                                                       2\n",
      "path             ../slp-dataset/training_data/Game_20200428T212...\n",
      "P1                                                             FOX\n",
      "P1_END_STOCKS                                                    3\n",
      "P2                                                           FALCO\n",
      "P2_END_STOCKS                                                    0\n",
      "stage                                                  BATTLEFIELD\n",
      "Name: 2, dtype: object\n"
     ]
    }
   ],
   "source": [
    "training_files = pd.read_csv(\"../slp-dataset/training.csv\")\n",
    "print(dataset.iloc[2])"
   ]
  },
  {
   "cell_type": "code",
   "execution_count": 28,
   "metadata": {},
   "outputs": [
    {
     "name": "stdout",
     "output_type": "stream",
     "text": [
      "Files for use: 10145\n"
     ]
    }
   ],
   "source": [
    "# need to convert this to an input tensor. The 'path' variable is probably all \n",
    "# that is needed to create this tensor, whereas the other colummns can be used\n",
    "# to filter games more easily. This cell will filter the training files by \n",
    "# all games FOX v (FOX, Marth, Falco, Falcon, Peach) on tournament stages\n",
    "# --- don't use stages or characters that change (pokemon stadium, sheik)\n",
    "dataset_filtered = training_files[(training_files.P1 == \"FOX\") & \n",
    "                     ((training_files.P2 == \"MARTH\") |\n",
    "                      (training_files.P2 == \"CAPTAIN_FALCON\") |\n",
    "                      (training_files.P2 == \"FALCO\") |\n",
    "                      (training_files.P2 == \"PEACH\")) & \n",
    "                     ((training_files.stage == \"BATTLEFIELD\") |\n",
    "                      (training_files.stage == \"FINAL_DESTINATION\") |\n",
    "                      (training_files.stage == \"YOSHIS_STORY\") |\n",
    "                      (training_files.stage == \"DREAM_LAND_N64\") |\n",
    "                      (training_files.stage == \"FOUNTAIN_OF_DREAMS\"))\n",
    "                    ]\n",
    "print(f\"Files for use: {len(dataset_filtered)}\")"
   ]
  },
  {
   "cell_type": "markdown",
   "metadata": {},
   "source": [
    "With 60 fps gameplay and 8000-20000 frames per game, this should provide a nice amount of training data. This cell will create the input tensors ahead of time and save them along with an index containing a reference to all files we've created so far. \n",
    "\n",
    "The cell below iterates over the games filtered above and goes frame by frame. From each frame, extract the following:\n",
    "* P1 location  (x1, y1)\n",
    "* P1 damage    (D1)\n",
    "* P2 location  (x2, y2)\n",
    "* P2 damage    (D2)\n",
    "\n",
    "* P1 Character (c1)\n",
    "* P2 Character (c2)\n",
    "* Stage        (s)\n",
    "\n",
    "This is a 9 element tensor\n",
    "\n",
    "Some future features that could be of use:\n",
    "* player velocity  (dx, dy) \n",
    "* player average damage/sec (dD)\n",
    "\n",
    "The other major element of dataset creation is the label. "
   ]
  },
  {
   "cell_type": "code",
   "execution_count": 21,
   "metadata": {},
   "outputs": [
    {
     "name": "stdout",
     "output_type": "stream",
     "text": [
      "Frame(\n",
      "    end=None,\n",
      "    index=-123,\n",
      "    items=( ),\n",
      "    ports=(\n",
      "        Port(\n",
      "            follower=None,\n",
      "            leader=Data(\n",
      "                post=Post(\n",
      "                    airborne=True,\n",
      "                    character=1:FOX,\n",
      "                    combo_count=0,\n",
      "                    damage=0.00,\n",
      "                    direction=1:RIGHT,\n",
      "                    flags=0b100000000000000000000000000000000000000:DEAD,\n",
      "                    ground=None,\n",
      "                    hit_stun=0.00,\n",
      "                    jumps=1,\n",
      "                    l_cancel=None,\n",
      "                    last_attack_landed=None,\n",
      "                    last_hit_by=None,\n",
      "                    position=(-38.80, 35.20),\n",
      "                    shield=60.00,\n",
      "                    state=322:ENTRY,\n",
      "                    state_age=-1.00,\n",
      "                    stocks=4),\n",
      "                pre=Pre(\n",
      "                    buttons=Buttons(\n",
      "                        logical=0b0:NONE,\n",
      "                        physical=0b0:NONE),\n",
      "                    cstick=(0.00, 0.00),\n",
      "                    damage=(0.00),\n",
      "                    direction=1:RIGHT,\n",
      "                    joystick=(0.00, 0.00),\n",
      "                    position=(-38.80, 35.20),\n",
      "                    random_seed=3380780892,\n",
      "                    raw_analog_x=(0),\n",
      "                    state=322:ENTRY,\n",
      "                    triggers=Triggers(\n",
      "                        logical=0.00,\n",
      "                        physical=Physical(\n",
      "                            l=0.01,\n",
      "                            r=0.01))))),\n",
      "        Port(\n",
      "            follower=None,\n",
      "            leader=Data(\n",
      "                post=Post(\n",
      "                    airborne=True,\n",
      "                    character=22:FALCO,\n",
      "                    combo_count=0,\n",
      "                    damage=0.00,\n",
      "                    direction=-1:LEFT,\n",
      "                    flags=0b100000000000000000000000000000000000000:DEAD,\n",
      "                    ground=None,\n",
      "                    hit_stun=0.00,\n",
      "                    jumps=1,\n",
      "                    l_cancel=None,\n",
      "                    last_attack_landed=None,\n",
      "                    last_hit_by=None,\n",
      "                    position=(38.80, 35.20),\n",
      "                    shield=60.00,\n",
      "                    state=322:ENTRY,\n",
      "                    state_age=-1.00,\n",
      "                    stocks=4),\n",
      "                pre=Pre(\n",
      "                    buttons=Buttons(\n",
      "                        logical=0b0:NONE,\n",
      "                        physical=0b0:NONE),\n",
      "                    cstick=(0.00, 0.00),\n",
      "                    damage=(0.00),\n",
      "                    direction=-1:LEFT,\n",
      "                    joystick=(0.00, 0.00),\n",
      "                    position=(38.80, 35.20),\n",
      "                    random_seed=3380780892,\n",
      "                    raw_analog_x=(0),\n",
      "                    state=322:ENTRY,\n",
      "                    triggers=Triggers(\n",
      "                        logical=0.00,\n",
      "                        physical=Physical(\n",
      "                            l=0.00,\n",
      "                            r=0.00))))),\n",
      "        None,\n",
      "        None),\n",
      "    start=None)\n"
     ]
    }
   ],
   "source": [
    "good_indices = []\n",
    "labels = []\n",
    "for i in range(len(dataset_filtered)):\n",
    "    path = dataset_filtered.iloc[i][\"path\"]\n",
    "    game = Game(path)\n",
    "    current_stocks = [4, 4]\n",
    "    for frame in game.frames:\n",
    "        print(frame)\n",
    "        break\n",
    "    break"
   ]
  },
  {
   "cell_type": "code",
   "execution_count": null,
   "metadata": {},
   "outputs": [],
   "source": []
  }
 ],
 "metadata": {
  "kernelspec": {
   "display_name": "Python 3",
   "language": "python",
   "name": "python3"
  },
  "language_info": {
   "codemirror_mode": {
    "name": "ipython",
    "version": 3
   },
   "file_extension": ".py",
   "mimetype": "text/x-python",
   "name": "python",
   "nbconvert_exporter": "python",
   "pygments_lexer": "ipython3",
   "version": "3.6.9"
  }
 },
 "nbformat": 4,
 "nbformat_minor": 4
}
